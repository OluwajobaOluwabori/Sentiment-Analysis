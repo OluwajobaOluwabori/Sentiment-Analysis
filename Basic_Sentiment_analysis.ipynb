{
  "nbformat": 4,
  "nbformat_minor": 0,
  "metadata": {
    "colab": {
      "name": "Basic Sentiment analysis.ipynb",
      "provenance": [],
      "authorship_tag": "ABX9TyPv/NnrHI9IJrmbzWY39Q/w",
      "include_colab_link": true
    },
    "kernelspec": {
      "name": "python3",
      "display_name": "Python 3"
    },
    "language_info": {
      "name": "python"
    }
  },
  "cells": [
    {
      "cell_type": "markdown",
      "metadata": {
        "id": "view-in-github",
        "colab_type": "text"
      },
      "source": [
        "<a href=\"https://colab.research.google.com/github/OluwajobaOluwabori/Sentiment-Analysis/blob/main/Basic_Sentiment_analysis.ipynb\" target=\"_parent\"><img src=\"https://colab.research.google.com/assets/colab-badge.svg\" alt=\"Open In Colab\"/></a>"
      ]
    },
    {
      "cell_type": "code",
      "execution_count": 147,
      "metadata": {
        "id": "_2-fxZ5rhhVg"
      },
      "outputs": [],
      "source": [
        "# Import neccessary libraries\n",
        "import tensorflow as tf\n",
        "from tensorflow.keras.preprocessing.text import Tokenizer\n",
        "from tensorflow.keras.preprocessing.sequence import pad_sequences\n",
        "from sklearn.model_selection import train_test_split\n",
        "import numpy as np\n",
        "import pandas as pd\n",
        "\n"
      ]
    },
    {
      "cell_type": "code",
      "source": [
        "dataset = pd.read_csv('/content/combined_data.csv')\n",
        "#Convert text to a list\n",
        "text = dataset['text'].tolist()\n",
        "labels = dataset['sentiment'].tolist()\n"
      ],
      "metadata": {
        "id": "fNZHrntXiAe_"
      },
      "execution_count": 148,
      "outputs": []
    },
    {
      "cell_type": "code",
      "source": [
        "#Split into train and test sequence\n",
        "X_train, X_test, y_train, y_test = train_test_split(text, labels, test_size=0.2, random_state=42)\n",
        "# Make labels into numpy arrays for use with the network later\n",
        "training_labels_final = np.array(y_train)\n",
        "testing_labels_final = np.array(y_test)"
      ],
      "metadata": {
        "id": "bQYeBsTzjoHk"
      },
      "execution_count": 149,
      "outputs": []
    },
    {
      "cell_type": "code",
      "source": [
        "from pandas._libs.algos import pad_2d_inplace\n",
        "#Tokenize the data\n",
        "tokenizer=Tokenizer(oov_token='<OOV>',num_words=500)\n",
        "tokenizer.fit_on_texts(X_train)\n",
        "word_index = tokenizer.word_index\n",
        "x_sequence = tokenizer.texts_to_sequences(X_train)\n",
        "train_padded= pad_sequences(x_sequence,maxlen=50, padding= 'post' , truncating='post')\n",
        "\n",
        "y_sequences = tokenizer.texts_to_sequences(X_test)\n",
        "testing_padded = pad_sequences(y_sequences,maxlen=50, \n",
        "                               padding='post', truncating='post')"
      ],
      "metadata": {
        "id": "wjokiNRjjn-t"
      },
      "execution_count": 150,
      "outputs": []
    },
    {
      "cell_type": "code",
      "source": [
        "#Review a Sequence\n",
        "reverse_word_index = dict([(value, key) for (key, value) in word_index.items()])\n",
        "\n",
        "def decode_review(text):\n",
        "    return ' '.join([reverse_word_index.get(i, '?') for i in text])\n",
        "\n",
        "print(decode_review(train_padded[2]))\n",
        "print(X_train[2])"
      ],
      "metadata": {
        "colab": {
          "base_uri": "https://localhost:8080/"
        },
        "id": "hYZ2OmBKjoPo",
        "outputId": "4b0be87a-4891-4d36-b485-ac005e191711"
      },
      "execution_count": 151,
      "outputs": [
        {
          "output_type": "stream",
          "name": "stdout",
          "text": [
            "definitely not worth the 3 i <OOV> ? ? ? ? ? ? ? ? ? ? ? ? ? ? ? ? ? ? ? ? ? ? ? ? ? ? ? ? ? ? ? ? ? ? ? ? ? ? ? ? ? ? ?\n",
            "Definitely not worth the $3 I paid.\n"
          ]
        }
      ]
    },
    {
      "cell_type": "code",
      "source": [
        "## Train a Basic Sentiment Model with Embeddings\n",
        "model= tf.keras.Sequential([\n",
        "    tf.keras.layers.Embedding(500,16,input_length=50),\n",
        "    tf.keras.layers.GlobalAveragePooling1D(),\n",
        "    tf.keras.layers.Dense(16,activation='relu'),\n",
        "    tf.keras.layers.Dropout(0.2),\n",
        "    tf.keras.layers.Dense(1)\n",
        "])\n",
        "model.compile(optimizer='adam',loss='binary_crossentropy',metrics='Accuracy')\n",
        "model.summary()"
      ],
      "metadata": {
        "colab": {
          "base_uri": "https://localhost:8080/"
        },
        "id": "Q8geGKnvoWzE",
        "outputId": "9e21fcc0-54f5-4635-b471-220342c6764d"
      },
      "execution_count": 152,
      "outputs": [
        {
          "output_type": "stream",
          "name": "stdout",
          "text": [
            "Model: \"sequential_20\"\n",
            "_________________________________________________________________\n",
            " Layer (type)                Output Shape              Param #   \n",
            "=================================================================\n",
            " embedding_23 (Embedding)    (None, 50, 16)            8000      \n",
            "                                                                 \n",
            " global_average_pooling1d_7   (None, 16)               0         \n",
            " (GlobalAveragePooling1D)                                        \n",
            "                                                                 \n",
            " dense_44 (Dense)            (None, 16)                272       \n",
            "                                                                 \n",
            " dropout_4 (Dropout)         (None, 16)                0         \n",
            "                                                                 \n",
            " dense_45 (Dense)            (None, 1)                 17        \n",
            "                                                                 \n",
            "=================================================================\n",
            "Total params: 8,289\n",
            "Trainable params: 8,289\n",
            "Non-trainable params: 0\n",
            "_________________________________________________________________\n"
          ]
        }
      ]
    },
    {
      "cell_type": "code",
      "source": [
        "history=model.fit(train_padded,training_labels_final,epochs=30,validation_data=(testing_padded,testing_labels_final))"
      ],
      "metadata": {
        "id": "cxyFd2LToXD1",
        "colab": {
          "base_uri": "https://localhost:8080/"
        },
        "outputId": "a600acc3-9a80-470a-cd0b-43486cc1ef16"
      },
      "execution_count": 153,
      "outputs": [
        {
          "output_type": "stream",
          "name": "stdout",
          "text": [
            "Epoch 1/30\n",
            "50/50 [==============================] - 1s 6ms/step - loss: 1.1491 - Accuracy: 0.4915 - val_loss: 0.8134 - val_Accuracy: 0.5338\n",
            "Epoch 2/30\n",
            "50/50 [==============================] - 0s 3ms/step - loss: 0.7983 - Accuracy: 0.4915 - val_loss: 0.7002 - val_Accuracy: 0.5338\n",
            "Epoch 3/30\n",
            "50/50 [==============================] - 0s 3ms/step - loss: 0.7182 - Accuracy: 0.5267 - val_loss: 0.6843 - val_Accuracy: 0.5689\n",
            "Epoch 4/30\n",
            "50/50 [==============================] - 0s 3ms/step - loss: 0.6959 - Accuracy: 0.5443 - val_loss: 0.6822 - val_Accuracy: 0.5539\n",
            "Epoch 5/30\n",
            "50/50 [==============================] - 0s 3ms/step - loss: 0.6926 - Accuracy: 0.5405 - val_loss: 0.6766 - val_Accuracy: 0.5890\n",
            "Epoch 6/30\n",
            "50/50 [==============================] - 0s 3ms/step - loss: 0.6872 - Accuracy: 0.5543 - val_loss: 0.6719 - val_Accuracy: 0.6040\n",
            "Epoch 7/30\n",
            "50/50 [==============================] - 0s 3ms/step - loss: 0.6883 - Accuracy: 0.5468 - val_loss: 0.6665 - val_Accuracy: 0.6341\n",
            "Epoch 8/30\n",
            "50/50 [==============================] - 0s 3ms/step - loss: 0.6719 - Accuracy: 0.5819 - val_loss: 0.6611 - val_Accuracy: 0.6391\n",
            "Epoch 9/30\n",
            "50/50 [==============================] - 0s 3ms/step - loss: 0.6673 - Accuracy: 0.5951 - val_loss: 0.6543 - val_Accuracy: 0.6667\n",
            "Epoch 10/30\n",
            "50/50 [==============================] - 0s 3ms/step - loss: 0.6523 - Accuracy: 0.6171 - val_loss: 0.6460 - val_Accuracy: 0.6817\n",
            "Epoch 11/30\n",
            "50/50 [==============================] - 0s 3ms/step - loss: 0.6408 - Accuracy: 0.6447 - val_loss: 0.6355 - val_Accuracy: 0.7243\n",
            "Epoch 12/30\n",
            "50/50 [==============================] - 0s 3ms/step - loss: 0.6204 - Accuracy: 0.6824 - val_loss: 0.6259 - val_Accuracy: 0.6917\n",
            "Epoch 13/30\n",
            "50/50 [==============================] - 0s 3ms/step - loss: 0.6060 - Accuracy: 0.6780 - val_loss: 0.6128 - val_Accuracy: 0.6967\n",
            "Epoch 14/30\n",
            "50/50 [==============================] - 0s 3ms/step - loss: 0.5841 - Accuracy: 0.7037 - val_loss: 0.5944 - val_Accuracy: 0.7293\n",
            "Epoch 15/30\n",
            "50/50 [==============================] - 0s 3ms/step - loss: 0.5591 - Accuracy: 0.7207 - val_loss: 0.5691 - val_Accuracy: 0.7719\n",
            "Epoch 16/30\n",
            "50/50 [==============================] - 0s 3ms/step - loss: 0.5289 - Accuracy: 0.7476 - val_loss: 0.5434 - val_Accuracy: 0.7895\n",
            "Epoch 17/30\n",
            "50/50 [==============================] - 0s 3ms/step - loss: 0.4746 - Accuracy: 0.7778 - val_loss: 0.5515 - val_Accuracy: 0.7920\n",
            "Epoch 18/30\n",
            "50/50 [==============================] - 0s 3ms/step - loss: 0.4636 - Accuracy: 0.7809 - val_loss: 0.5599 - val_Accuracy: 0.7995\n",
            "Epoch 19/30\n",
            "50/50 [==============================] - 0s 3ms/step - loss: 0.4350 - Accuracy: 0.8041 - val_loss: 0.5392 - val_Accuracy: 0.7970\n",
            "Epoch 20/30\n",
            "50/50 [==============================] - 0s 3ms/step - loss: 0.4325 - Accuracy: 0.8136 - val_loss: 0.5250 - val_Accuracy: 0.8170\n",
            "Epoch 21/30\n",
            "50/50 [==============================] - 0s 3ms/step - loss: 0.4056 - Accuracy: 0.8223 - val_loss: 0.5428 - val_Accuracy: 0.8195\n",
            "Epoch 22/30\n",
            "50/50 [==============================] - 0s 3ms/step - loss: 0.4268 - Accuracy: 0.8355 - val_loss: 0.5004 - val_Accuracy: 0.8045\n",
            "Epoch 23/30\n",
            "50/50 [==============================] - 0s 3ms/step - loss: 0.4297 - Accuracy: 0.8343 - val_loss: 0.5251 - val_Accuracy: 0.8070\n",
            "Epoch 24/30\n",
            "50/50 [==============================] - 0s 3ms/step - loss: 0.3751 - Accuracy: 0.8336 - val_loss: 0.6002 - val_Accuracy: 0.7419\n",
            "Epoch 25/30\n",
            "50/50 [==============================] - 0s 6ms/step - loss: 0.3990 - Accuracy: 0.8437 - val_loss: 0.5765 - val_Accuracy: 0.8020\n",
            "Epoch 26/30\n",
            "50/50 [==============================] - 0s 7ms/step - loss: 0.3860 - Accuracy: 0.8562 - val_loss: 0.5707 - val_Accuracy: 0.8045\n",
            "Epoch 27/30\n",
            "50/50 [==============================] - 0s 7ms/step - loss: 0.3359 - Accuracy: 0.8594 - val_loss: 0.5497 - val_Accuracy: 0.8045\n",
            "Epoch 28/30\n",
            "50/50 [==============================] - 0s 5ms/step - loss: 0.3386 - Accuracy: 0.8594 - val_loss: 0.5462 - val_Accuracy: 0.8095\n",
            "Epoch 29/30\n",
            "50/50 [==============================] - 0s 6ms/step - loss: 0.3170 - Accuracy: 0.8669 - val_loss: 0.6611 - val_Accuracy: 0.8045\n",
            "Epoch 30/30\n",
            "50/50 [==============================] - 0s 7ms/step - loss: 0.3521 - Accuracy: 0.8701 - val_loss: 0.6240 - val_Accuracy: 0.7995\n"
          ]
        }
      ]
    },
    {
      "cell_type": "markdown",
      "source": [
        "**Get files for visualizing the network**\n",
        "The code below will download two files for visualizing how the network \"sees\" the sentiment related to each word. Head to http://projector.tensorflow.org/ and load the files, then click the \"Sphereize\" checkbox.\n",
        "\n"
      ],
      "metadata": {
        "id": "z8YGSXSBB3Rw"
      }
    },
    {
      "cell_type": "code",
      "source": [
        "#@title\n",
        "# First get the weights of the embedding layer\n",
        "e = model.layers[0]\n",
        "weights = e.get_weights()[0]\n",
        "print(weights.shape) # shape: (vocab_size, embedding_dim)"
      ],
      "metadata": {
        "colab": {
          "base_uri": "https://localhost:8080/"
        },
        "cellView": "form",
        "id": "n0JSfKwXxmZo",
        "outputId": "77518380-532d-4a47-cd19-3a51db3db80c"
      },
      "execution_count": 133,
      "outputs": [
        {
          "output_type": "stream",
          "name": "stdout",
          "text": [
            "(500, 16)\n"
          ]
        }
      ]
    },
    {
      "cell_type": "code",
      "source": [
        "#@title\n",
        "import io\n",
        "\n",
        "# Write out the embedding vectors and metadata\n",
        "out_v = io.open('vecs.tsv', 'w', encoding='utf-8')\n",
        "out_m = io.open('meta.tsv', 'w', encoding='utf-8')\n",
        "for word_num in range(1, 500):\n",
        "  word = reverse_word_index[word_num]\n",
        "  embeddings = weights[word_num]\n",
        "  out_m.write(word + \"\\n\")\n",
        "  out_v.write('\\t'.join([str(x) for x in embeddings]) + \"\\n\")\n",
        "out_v.close()\n",
        "out_m.close()"
      ],
      "metadata": {
        "id": "11yoDxqeoXSj",
        "cellView": "form"
      },
      "execution_count": 134,
      "outputs": []
    },
    {
      "cell_type": "code",
      "source": [
        "#@title\n",
        "# Download the files\n",
        "try:\n",
        "  from google.colab import files\n",
        "except ImportError:\n",
        "  pass\n",
        "else:\n",
        "  files.download('vecs.tsv')\n",
        "  files.download('meta.tsv')"
      ],
      "metadata": {
        "id": "L6AUO-AnoXdK",
        "colab": {
          "base_uri": "https://localhost:8080/",
          "height": 17
        },
        "cellView": "form",
        "outputId": "a0942f7c-cd63-426a-f2af-6fc64a67456c"
      },
      "execution_count": 135,
      "outputs": [
        {
          "output_type": "display_data",
          "data": {
            "text/plain": [
              "<IPython.core.display.Javascript object>"
            ],
            "application/javascript": [
              "\n",
              "    async function download(id, filename, size) {\n",
              "      if (!google.colab.kernel.accessAllowed) {\n",
              "        return;\n",
              "      }\n",
              "      const div = document.createElement('div');\n",
              "      const label = document.createElement('label');\n",
              "      label.textContent = `Downloading \"${filename}\": `;\n",
              "      div.appendChild(label);\n",
              "      const progress = document.createElement('progress');\n",
              "      progress.max = size;\n",
              "      div.appendChild(progress);\n",
              "      document.body.appendChild(div);\n",
              "\n",
              "      const buffers = [];\n",
              "      let downloaded = 0;\n",
              "\n",
              "      const channel = await google.colab.kernel.comms.open(id);\n",
              "      // Send a message to notify the kernel that we're ready.\n",
              "      channel.send({})\n",
              "\n",
              "      for await (const message of channel.messages) {\n",
              "        // Send a message to notify the kernel that we're ready.\n",
              "        channel.send({})\n",
              "        if (message.buffers) {\n",
              "          for (const buffer of message.buffers) {\n",
              "            buffers.push(buffer);\n",
              "            downloaded += buffer.byteLength;\n",
              "            progress.value = downloaded;\n",
              "          }\n",
              "        }\n",
              "      }\n",
              "      const blob = new Blob(buffers, {type: 'application/binary'});\n",
              "      const a = document.createElement('a');\n",
              "      a.href = window.URL.createObjectURL(blob);\n",
              "      a.download = filename;\n",
              "      div.appendChild(a);\n",
              "      a.click();\n",
              "      div.remove();\n",
              "    }\n",
              "  "
            ]
          },
          "metadata": {}
        },
        {
          "output_type": "display_data",
          "data": {
            "text/plain": [
              "<IPython.core.display.Javascript object>"
            ],
            "application/javascript": [
              "download(\"download_f622deb9-8c53-4246-919f-d3ea1df81c71\", \"vecs.tsv\", 98767)"
            ]
          },
          "metadata": {}
        },
        {
          "output_type": "display_data",
          "data": {
            "text/plain": [
              "<IPython.core.display.Javascript object>"
            ],
            "application/javascript": [
              "\n",
              "    async function download(id, filename, size) {\n",
              "      if (!google.colab.kernel.accessAllowed) {\n",
              "        return;\n",
              "      }\n",
              "      const div = document.createElement('div');\n",
              "      const label = document.createElement('label');\n",
              "      label.textContent = `Downloading \"${filename}\": `;\n",
              "      div.appendChild(label);\n",
              "      const progress = document.createElement('progress');\n",
              "      progress.max = size;\n",
              "      div.appendChild(progress);\n",
              "      document.body.appendChild(div);\n",
              "\n",
              "      const buffers = [];\n",
              "      let downloaded = 0;\n",
              "\n",
              "      const channel = await google.colab.kernel.comms.open(id);\n",
              "      // Send a message to notify the kernel that we're ready.\n",
              "      channel.send({})\n",
              "\n",
              "      for await (const message of channel.messages) {\n",
              "        // Send a message to notify the kernel that we're ready.\n",
              "        channel.send({})\n",
              "        if (message.buffers) {\n",
              "          for (const buffer of message.buffers) {\n",
              "            buffers.push(buffer);\n",
              "            downloaded += buffer.byteLength;\n",
              "            progress.value = downloaded;\n",
              "          }\n",
              "        }\n",
              "      }\n",
              "      const blob = new Blob(buffers, {type: 'application/binary'});\n",
              "      const a = document.createElement('a');\n",
              "      a.href = window.URL.createObjectURL(blob);\n",
              "      a.download = filename;\n",
              "      div.appendChild(a);\n",
              "      a.click();\n",
              "      div.remove();\n",
              "    }\n",
              "  "
            ]
          },
          "metadata": {}
        },
        {
          "output_type": "display_data",
          "data": {
            "text/plain": [
              "<IPython.core.display.Javascript object>"
            ],
            "application/javascript": [
              "download(\"download_45c86b64-a7cf-4b19-a6b7-2682b13a002f\", \"meta.tsv\", 3022)"
            ]
          },
          "metadata": {}
        }
      ]
    },
    {
      "cell_type": "code",
      "source": [
        "import matplotlib.pyplot as plt\n",
        "\n",
        "\n",
        "def plot_graphs(history, string):\n",
        "  plt.plot(history.history[string])\n",
        "  plt.plot(history.history['val_'+string])\n",
        "  plt.xlabel(\"Epochs\")\n",
        "  plt.ylabel(string)\n",
        "  plt.legend([string, 'val_'+string])\n",
        "  plt.show()\n",
        "  \n",
        "plot_graphs(history, \"Accuracy\")\n",
        "plot_graphs(history, \"loss\")"
      ],
      "metadata": {
        "colab": {
          "base_uri": "https://localhost:8080/",
          "height": 541
        },
        "id": "xL1UsbrxCWV4",
        "outputId": "72944c51-316b-4539-e2de-7656fd7eb0a6"
      },
      "execution_count": 154,
      "outputs": [
        {
          "output_type": "display_data",
          "data": {
            "text/plain": [
              "<Figure size 432x288 with 1 Axes>"
            ],
            "image/png": "[encoded data removed]"
          },
          "metadata": {
            "needs_background": "light"
          }
        },
        {
          "output_type": "display_data",
          "data": {
            "text/plain": [
              "<Figure size 432x288 with 1 Axes>"
            ],
            "image/png": "[encoded data removed]"
          },
          "metadata": {
            "needs_background": "light"
          }
        }
      ]
    }
  ]
}