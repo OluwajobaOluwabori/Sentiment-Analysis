{
  "nbformat": 4,
  "nbformat_minor": 0,
  "metadata": {
    "colab": {
      "name": "Basic Sentiment analysis.ipynb",
      "provenance": [],
      "authorship_tag": "ABX9TyOvokubyXIBqhWQrWlQFaRl",
      "include_colab_link": true
    },
    "kernelspec": {
      "name": "python3",
      "display_name": "Python 3"
    },
    "language_info": {
      "name": "python"
    }
  },
  "cells": [
    {
      "cell_type": "markdown",
      "metadata": {
        "id": "view-in-github",
        "colab_type": "text"
      },
      "source": [
        "<a href=\"https://colab.research.google.com/github/OluwajobaOluwabori/Sentiment-Analysis/blob/main/Basic_Sentiment_analysis.ipynb\" target=\"_parent\"><img src=\"https://colab.research.google.com/assets/colab-badge.svg\" alt=\"Open In Colab\"/></a>"
      ]
    },
    {
      "cell_type": "code",
      "execution_count": 41,
      "metadata": {
        "id": "_2-fxZ5rhhVg"
      },
      "outputs": [],
      "source": [
        "# Import neccessary libraries\n",
        "import tensorflow as tf\n",
        "from tensorflow.keras.preprocessing.text import Tokenizer\n",
        "from tensorflow.keras.preprocessing.sequence import pad_sequences\n",
        "from sklearn.model_selection import train_test_split\n",
        "import numpy as np\n",
        "import pandas as pd\n",
        "\n"
      ]
    },
    {
      "cell_type": "code",
      "source": [
        "dataset = pd.read_csv('/content/combined_data.csv')\n",
        "#Convert text to a list\n",
        "text = dataset['text'].tolist()\n",
        "labels = dataset['sentiment'].tolist()\n",
        "labels"
      ],
      "metadata": {
        "id": "fNZHrntXiAe_"
      },
      "execution_count": null,
      "outputs": []
    },
    {
      "cell_type": "code",
      "source": [
        "#Split into train and test sequence\n",
        "X_train, X_test, y_train, y_test = train_test_split(text, labels, test_size=0.2, random_state=42)\n",
        "# Make labels into numpy arrays for use with the network later\n",
        "training_labels_final = np.array(y_train)\n",
        "testing_labels_final = np.array(y_test)"
      ],
      "metadata": {
        "id": "bQYeBsTzjoHk"
      },
      "execution_count": 72,
      "outputs": []
    },
    {
      "cell_type": "code",
      "source": [
        "from pandas._libs.algos import pad_2d_inplace\n",
        "#Tokenize the data\n",
        "tokenizer=Tokenizer(oov_token='<OOV>',num_words=1000)\n",
        "tokenizer.fit_on_texts(X_train)\n",
        "word_index = tokenizer.word_index\n",
        "x_sequence = tokenizer.texts_to_sequences(X_train)\n",
        "train_padded= pad_sequences(x_sequence,maxlen=100, padding= 'post')\n",
        "\n",
        "y_sequences = tokenizer.texts_to_sequences(X_test)\n",
        "testing_padded = pad_sequences(y_sequences,maxlen=100, \n",
        "                               padding='post', truncating='post')"
      ],
      "metadata": {
        "id": "wjokiNRjjn-t"
      },
      "execution_count": 65,
      "outputs": []
    },
    {
      "cell_type": "code",
      "source": [
        "#Review a Sequence\n",
        "reverse_word_index = dict([(value, key) for (key, value) in word_index.items()])\n",
        "\n",
        "def decode_review(text):\n",
        "    return ' '.join([reverse_word_index.get(i, '?') for i in text])\n",
        "\n",
        "print(decode_review(train_padded[2]))\n",
        "print(X_train[2])"
      ],
      "metadata": {
        "colab": {
          "base_uri": "https://localhost:8080/"
        },
        "id": "hYZ2OmBKjoPo",
        "outputId": "cc96375d-ac97-43ca-b32a-0639dfbacd02"
      },
      "execution_count": 67,
      "outputs": [
        {
          "output_type": "stream",
          "name": "stdout",
          "text": [
            "definitely not worth the 3 i paid ? ? ? ? ? ? ? ? ? ? ? ? ? ? ? ? ? ? ? ? ? ? ? ? ? ? ? ? ? ? ? ? ? ? ? ? ? ? ? ? ? ? ? ? ? ? ? ? ? ? ? ? ? ? ? ? ? ? ? ? ? ? ? ? ? ? ? ? ? ? ? ? ? ? ? ? ? ? ? ? ? ? ? ? ? ? ? ? ? ? ? ? ?\n",
            "Definitely not worth the $3 I paid.\n"
          ]
        }
      ]
    },
    {
      "cell_type": "code",
      "source": [
        "## Train a Basic Sentiment Model with Embeddings\n",
        "model= tf.keras.Sequential([\n",
        "    tf.keras.layers.Embedding(1000,16,input_length=100),\n",
        "    tf.keras.layers.Flatten(),\n",
        "    tf.keras.layers.Dense(16,activation='relu'),\n",
        "    tf.keras.layers.Dense(1)\n",
        "])\n",
        "model.compile(optimizer='adam',loss='binary_crossentropy',metrics='Accuracy')\n",
        "model.summary()"
      ],
      "metadata": {
        "colab": {
          "base_uri": "https://localhost:8080/"
        },
        "id": "Q8geGKnvoWzE",
        "outputId": "5024de30-3c48-44a6-c8d7-97971a4c678f"
      },
      "execution_count": 68,
      "outputs": [
        {
          "output_type": "stream",
          "name": "stdout",
          "text": [
            "Model: \"sequential_8\"\n",
            "_________________________________________________________________\n",
            " Layer (type)                Output Shape              Param #   \n",
            "=================================================================\n",
            " embedding_11 (Embedding)    (None, 100, 16)           16000     \n",
            "                                                                 \n",
            " flatten_5 (Flatten)         (None, 1600)              0         \n",
            "                                                                 \n",
            " dense_20 (Dense)            (None, 16)                25616     \n",
            "                                                                 \n",
            " dense_21 (Dense)            (None, 1)                 17        \n",
            "                                                                 \n",
            "=================================================================\n",
            "Total params: 41,633\n",
            "Trainable params: 41,633\n",
            "Non-trainable params: 0\n",
            "_________________________________________________________________\n"
          ]
        }
      ]
    },
    {
      "cell_type": "code",
      "source": [
        "model.fit(train_padded,training_labels_final,epochs=10,validation_data=(testing_padded,testing_labels_final))"
      ],
      "metadata": {
        "id": "cxyFd2LToXD1",
        "colab": {
          "base_uri": "https://localhost:8080/"
        },
        "outputId": "0883fed9-f1fe-411d-d79e-006e1ff238f5"
      },
      "execution_count": 73,
      "outputs": [
        {
          "output_type": "stream",
          "name": "stdout",
          "text": [
            "Epoch 1/10\n",
            "50/50 [==============================] - 1s 8ms/step - loss: 7.8432 - Accuracy: 0.4915 - val_loss: 7.1906 - val_Accuracy: 0.5338\n",
            "Epoch 2/10\n",
            "50/50 [==============================] - 0s 4ms/step - loss: 7.8432 - Accuracy: 0.4915 - val_loss: 7.1906 - val_Accuracy: 0.5338\n",
            "Epoch 3/10\n",
            "50/50 [==============================] - 0s 4ms/step - loss: 7.8432 - Accuracy: 0.4915 - val_loss: 7.1906 - val_Accuracy: 0.5338\n",
            "Epoch 4/10\n",
            "50/50 [==============================] - 0s 4ms/step - loss: 7.8432 - Accuracy: 0.4915 - val_loss: 7.1906 - val_Accuracy: 0.5338\n",
            "Epoch 5/10\n",
            "50/50 [==============================] - 0s 5ms/step - loss: 7.8432 - Accuracy: 0.4915 - val_loss: 7.1906 - val_Accuracy: 0.5338\n",
            "Epoch 6/10\n",
            "50/50 [==============================] - 0s 4ms/step - loss: 7.8432 - Accuracy: 0.4915 - val_loss: 7.1906 - val_Accuracy: 0.5338\n",
            "Epoch 7/10\n",
            "50/50 [==============================] - 0s 4ms/step - loss: 7.8432 - Accuracy: 0.4915 - val_loss: 7.1906 - val_Accuracy: 0.5338\n",
            "Epoch 8/10\n",
            "50/50 [==============================] - 0s 5ms/step - loss: 7.8432 - Accuracy: 0.4915 - val_loss: 7.1906 - val_Accuracy: 0.5338\n",
            "Epoch 9/10\n",
            "50/50 [==============================] - 0s 5ms/step - loss: 7.8432 - Accuracy: 0.4915 - val_loss: 7.1906 - val_Accuracy: 0.5338\n",
            "Epoch 10/10\n",
            "50/50 [==============================] - 0s 5ms/step - loss: 7.8432 - Accuracy: 0.4915 - val_loss: 7.1906 - val_Accuracy: 0.5338\n"
          ]
        },
        {
          "output_type": "execute_result",
          "data": {
            "text/plain": [
              "<keras.callbacks.History at 0x7fcc467bbd10>"
            ]
          },
          "metadata": {},
          "execution_count": 73
        }
      ]
    },
    {
      "cell_type": "code",
      "source": [
        "# First get the weights of the embedding layer\n",
        "e = model.layers[0]\n",
        "weights = e.get_weights()[0]\n",
        "print(weights.shape) # shape: (vocab_size, embedding_dim)"
      ],
      "metadata": {
        "colab": {
          "base_uri": "https://localhost:8080/"
        },
        "id": "n0JSfKwXxmZo",
        "outputId": "d580f8d1-050f-48b2-977e-d3461a38928f"
      },
      "execution_count": 75,
      "outputs": [
        {
          "output_type": "stream",
          "name": "stdout",
          "text": [
            "(1000, 16)\n"
          ]
        }
      ]
    },
    {
      "cell_type": "code",
      "source": [
        "import io\n",
        "\n",
        "# Write out the embedding vectors and metadata\n",
        "out_v = io.open('vecs.tsv', 'w', encoding='utf-8')\n",
        "out_m = io.open('meta.tsv', 'w', encoding='utf-8')\n",
        "for word_num in range(1, 1000):\n",
        "  word = reverse_word_index[word_num]\n",
        "  embeddings = weights[word_num]\n",
        "  out_m.write(word + \"\\n\")\n",
        "  out_v.write('\\t'.join([str(x) for x in embeddings]) + \"\\n\")\n",
        "out_v.close()\n",
        "out_m.close()"
      ],
      "metadata": {
        "id": "11yoDxqeoXSj"
      },
      "execution_count": 77,
      "outputs": []
    },
    {
      "cell_type": "code",
      "source": [
        "# Download the files\n",
        "try:\n",
        "  from google.colab import files\n",
        "except ImportError:\n",
        "  pass\n",
        "else:\n",
        "  files.download('vecs.tsv')\n",
        "  files.download('meta.tsv')"
      ],
      "metadata": {
        "id": "L6AUO-AnoXdK",
        "colab": {
          "base_uri": "https://localhost:8080/",
          "height": 17
        },
        "outputId": "110dc9c7-e0d7-428a-b0c2-3acc7860d2cb"
      },
      "execution_count": 78,
      "outputs": [
        {
          "output_type": "display_data",
          "data": {
            "text/plain": [
              "<IPython.core.display.Javascript object>"
            ],
            "application/javascript": [
              "\n",
              "    async function download(id, filename, size) {\n",
              "      if (!google.colab.kernel.accessAllowed) {\n",
              "        return;\n",
              "      }\n",
              "      const div = document.createElement('div');\n",
              "      const label = document.createElement('label');\n",
              "      label.textContent = `Downloading \"${filename}\": `;\n",
              "      div.appendChild(label);\n",
              "      const progress = document.createElement('progress');\n",
              "      progress.max = size;\n",
              "      div.appendChild(progress);\n",
              "      document.body.appendChild(div);\n",
              "\n",
              "      const buffers = [];\n",
              "      let downloaded = 0;\n",
              "\n",
              "      const channel = await google.colab.kernel.comms.open(id);\n",
              "      // Send a message to notify the kernel that we're ready.\n",
              "      channel.send({})\n",
              "\n",
              "      for await (const message of channel.messages) {\n",
              "        // Send a message to notify the kernel that we're ready.\n",
              "        channel.send({})\n",
              "        if (message.buffers) {\n",
              "          for (const buffer of message.buffers) {\n",
              "            buffers.push(buffer);\n",
              "            downloaded += buffer.byteLength;\n",
              "            progress.value = downloaded;\n",
              "          }\n",
              "        }\n",
              "      }\n",
              "      const blob = new Blob(buffers, {type: 'application/binary'});\n",
              "      const a = document.createElement('a');\n",
              "      a.href = window.URL.createObjectURL(blob);\n",
              "      a.download = filename;\n",
              "      div.appendChild(a);\n",
              "      a.click();\n",
              "      div.remove();\n",
              "    }\n",
              "  "
            ]
          },
          "metadata": {}
        },
        {
          "output_type": "display_data",
          "data": {
            "text/plain": [
              "<IPython.core.display.Javascript object>"
            ],
            "application/javascript": [
              "download(\"download_ace49524-477e-44dc-b50b-0c4e60ac29b2\", \"vecs.tsv\", 198011)"
            ]
          },
          "metadata": {}
        },
        {
          "output_type": "display_data",
          "data": {
            "text/plain": [
              "<IPython.core.display.Javascript object>"
            ],
            "application/javascript": [
              "\n",
              "    async function download(id, filename, size) {\n",
              "      if (!google.colab.kernel.accessAllowed) {\n",
              "        return;\n",
              "      }\n",
              "      const div = document.createElement('div');\n",
              "      const label = document.createElement('label');\n",
              "      label.textContent = `Downloading \"${filename}\": `;\n",
              "      div.appendChild(label);\n",
              "      const progress = document.createElement('progress');\n",
              "      progress.max = size;\n",
              "      div.appendChild(progress);\n",
              "      document.body.appendChild(div);\n",
              "\n",
              "      const buffers = [];\n",
              "      let downloaded = 0;\n",
              "\n",
              "      const channel = await google.colab.kernel.comms.open(id);\n",
              "      // Send a message to notify the kernel that we're ready.\n",
              "      channel.send({})\n",
              "\n",
              "      for await (const message of channel.messages) {\n",
              "        // Send a message to notify the kernel that we're ready.\n",
              "        channel.send({})\n",
              "        if (message.buffers) {\n",
              "          for (const buffer of message.buffers) {\n",
              "            buffers.push(buffer);\n",
              "            downloaded += buffer.byteLength;\n",
              "            progress.value = downloaded;\n",
              "          }\n",
              "        }\n",
              "      }\n",
              "      const blob = new Blob(buffers, {type: 'application/binary'});\n",
              "      const a = document.createElement('a');\n",
              "      a.href = window.URL.createObjectURL(blob);\n",
              "      a.download = filename;\n",
              "      div.appendChild(a);\n",
              "      a.click();\n",
              "      div.remove();\n",
              "    }\n",
              "  "
            ]
          },
          "metadata": {}
        },
        {
          "output_type": "display_data",
          "data": {
            "text/plain": [
              "<IPython.core.display.Javascript object>"
            ],
            "application/javascript": [
              "download(\"download_fbeab968-3f57-4463-b2e7-82f4c6d379ae\", \"meta.tsv\", 6531)"
            ]
          },
          "metadata": {}
        }
      ]
    }
  ]
}